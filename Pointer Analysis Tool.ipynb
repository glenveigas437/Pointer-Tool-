{
 "cells": [
  {
   "cell_type": "code",
   "execution_count": 3,
   "metadata": {},
   "outputs": [],
   "source": [
    "#Enter your pointer for each SEM.\n",
    "#Enter the number of SEMS you have completed.\n",
    "#Based on it, your grade and performance will be evaluated."
   ]
  },
  {
   "cell_type": "code",
   "execution_count": 2,
   "metadata": {},
   "outputs": [],
   "source": [
    "import matplotlib.pyplot as plt \n",
    "import numpy as np\n",
    "import pandas as pd"
   ]
  },
  {
   "cell_type": "code",
   "execution_count": 11,
   "metadata": {},
   "outputs": [
    {
     "name": "stdout",
     "output_type": "stream",
     "text": [
      "Enter your name: Glen\n"
     ]
    }
   ],
   "source": [
    "name=str(input(\"Enter your name: \"))"
   ]
  },
  {
   "cell_type": "code",
   "execution_count": 12,
   "metadata": {},
   "outputs": [
    {
     "name": "stdout",
     "output_type": "stream",
     "text": [
      "Enter the number of semesters: 8\n"
     ]
    }
   ],
   "source": [
    "semesters=int(input(\"Enter the number of semesters: \"))"
   ]
  },
  {
   "cell_type": "code",
   "execution_count": 13,
   "metadata": {},
   "outputs": [],
   "source": [
    "dummy_buffer=[]\n",
    "pointer_buffer=[]\n",
    "remark_buffer=[]"
   ]
  },
  {
   "cell_type": "code",
   "execution_count": 14,
   "metadata": {},
   "outputs": [
    {
     "name": "stdout",
     "output_type": "stream",
     "text": [
      "Enter SGPA of SEM 1 :\t\n",
      "5.81\n",
      "Enter SGPA of SEM 2 :\t\n",
      "6.11\n",
      "Enter SGPA of SEM 3 :\t\n",
      "5.68\n",
      "Enter SGPA of SEM 4 :\t\n",
      "5.50\n",
      "Enter SGPA of SEM 5 :\t\n",
      "7.21\n",
      "Enter SGPA of SEM 6 :\t\n",
      "9.17\n",
      "Enter SGPA of SEM 7 :\t\n",
      "9.36\n",
      "Enter SGPA of SEM 8 :\t\n",
      "9.48\n",
      "\n",
      "\n",
      "Dear , Glen\n",
      "SEM \t SGPA\n",
      "1 \t 5.81 \t Uh Oh!, You got to work hard\n",
      "2 \t 6.11 \t Uh Oh!, You got to work hard\n",
      "3 \t 5.68 \t Uh Oh!, You got to work hard\n",
      "4 \t 5.5 \t Uh Oh!, You got to work hard\n",
      "5 \t 7.21 \t Well Done\n",
      "6 \t 9.17 \t Incredible\n",
      "7 \t 9.36 \t Incredible\n",
      "8 \t 9.48 \t Incredible\n",
      "Your CGPA is:  7.29\n",
      "Your best performance:  SEM 8 ---> 9.48\n",
      "Your worst performance:  SEM 4 ---> 5.5\n"
     ]
    }
   ],
   "source": [
    "sem=1\n",
    "for pointer in range(semesters):\n",
    "    print(\"Enter SGPA of SEM\", sem, \":\" \"\\t\")\n",
    "    sgpa=float(input())\n",
    "    if(sgpa>=7 and sgpa<8):\n",
    "        remark_buffer.append(\"Well Done\")\n",
    "    elif(sgpa>=8 and sgpa<9):\n",
    "        remark_buffer.append(\"Impressive\")\n",
    "    elif(sgpa>=9):\n",
    "        remark_buffer.append(\"Incredible\")\n",
    "    else:\n",
    "        remark_buffer.append(\"Uh Oh!, You got to work hard\")\n",
    "    pointer_buffer.append(sgpa)\n",
    "    sem+=1\n",
    "\n",
    "avg=sum(pointer_buffer)/semesters\n",
    "\n",
    "for i in range(semesters):\n",
    "    dummy_buffer.append(i+1)\n",
    "\n",
    "print(\"\\n\")\n",
    "print(\"Dear\",\",\", name,)\n",
    "print(\"SEM\", \"\\t\", \"SGPA\")\n",
    "for i in range(semesters):\n",
    "    print(dummy_buffer[i], \"\\t\", pointer_buffer[i], \"\\t\", remark_buffer[i])\n",
    "print(\"Your CGPA is: \", round(avg, 2))\n",
    "b_ind=max(pointer_buffer)\n",
    "w_ind=min(pointer_buffer)\n",
    "b=pointer_buffer.index(b_ind)\n",
    "w=pointer_buffer.index(w_ind)\n",
    "print(\"Your best performance: \",  \"SEM\", b+1, \"--->\", max(pointer_buffer))\n",
    "print(\"Your worst performance: \", \"SEM\", w+1, \"--->\", min(pointer_buffer))"
   ]
  },
  {
   "cell_type": "code",
   "execution_count": 15,
   "metadata": {},
   "outputs": [
    {
     "name": "stdout",
     "output_type": "stream",
     "text": [
      "WHICH UNIVERSITY DO YOU BELONG TO? 1.MUMBAI, 2.OTHER\n",
      "1\n",
      "Dear Glen , Your percentage is:  65.95 %\n",
      "CLASS: SECOND CLASS\n"
     ]
    }
   ],
   "source": [
    "print(\"WHICH UNIVERSITY DO YOU BELONG TO? 1.MUMBAI, 2.OTHER\")\n",
    "uni=int(input())\n",
    "if(uni==1):\n",
    "    if(avg<7):\n",
    "        per=round(float((7.1*avg)+12),2)\n",
    "        \n",
    "    else:\n",
    "        per=round(float((7.4*avg)+12),2)\n",
    "else:\n",
    "    per=round(float(9.5*avg),2)\n",
    "    \n",
    "print(\"Dear\",name,\",\", \"Your percentage is: \", per,\"%\")\n",
    "\n",
    "if(per>=70 and per<80):\n",
    "    print(\"YOUR GRADE IS: GRADE A\")\n",
    "    print(\"CLASS: FIRST CLASS\")\n",
    "    \n",
    "elif(per>=80):\n",
    "    print(\"YOUR GRADE IS: GRADE O\")\n",
    "    print(\"CLASS: DISTINCTION AND ABOVE\")\n",
    "    \n",
    "elif(per>=60 and per<70):\n",
    "    if(per>=60 and per<65):\n",
    "        print(\"YOUR GRADE IS: GRADE C\")\n",
    "    elif(per>=65 and per>70):\n",
    "        print(\"YOUR GRADE IS: GRADE B\")\n",
    "    print(\"CLASS: SECOND CLASS\")\n",
    " \n",
    "elif(per>=55 and per<60):\n",
    "    print(\"YOUR GRADE IS: GRADE D\")\n",
    "    print(\"CLASS: PASS CLASS\")\n",
    "    "
   ]
  },
  {
   "cell_type": "code",
   "execution_count": 25,
   "metadata": {},
   "outputs": [],
   "source": [
    "#EVALUATION GRAPH"
   ]
  },
  {
   "cell_type": "code",
   "execution_count": 16,
   "metadata": {},
   "outputs": [
    {
     "name": "stderr",
     "output_type": "stream",
     "text": [
      "c:\\users\\glenv\\appdata\\local\\programs\\python\\python37-32\\lib\\site-packages\\matplotlib\\figure.py:98: MatplotlibDeprecationWarning: \n",
      "Adding an axes using the same arguments as a previous axes currently reuses the earlier instance.  In a future version, a new instance will always be created and returned.  Meanwhile, this warning can be suppressed, and the future behavior ensured, by passing a unique label to each axes instance.\n",
      "  \"Adding an axes using the same arguments as a previous axes \"\n"
     ]
    },
    {
     "name": "stdout",
     "output_type": "stream",
     "text": [
      "Dear Glen here is the final analysis\n",
      "SEM 1 Initial\n",
      "SEM 2 Improvement of  0.3 compared to SEM 1\n",
      "SEM 3 Poor. Detoriated by  0.43 compared to SEM 2\n",
      "SEM 4 Poor. Detoriated by  0.18 compared to SEM 3\n",
      "SEM 5 Improvement of  1.71 compared to SEM 4\n",
      "SEM 6 Improvement of  1.96 compared to SEM 5\n",
      "SEM 7 Improvement of  0.19 compared to SEM 6\n",
      "SEM 8 Improvement of  0.12 compared to SEM 7\n"
     ]
    },
    {
     "data": {
      "image/png": "[encoded data removed]",
      "text/plain": [
       "<Figure size 432x288 with 1 Axes>"
      ]
     },
     "metadata": {
      "needs_background": "light"
     },
     "output_type": "display_data"
    }
   ],
   "source": [
    "plt.title('Analysis Graph')\n",
    "plt.xlabel('SEMESTERS')\n",
    "plt.ylabel('POINTER')\n",
    "ax = plt.subplot(111)\n",
    "ax.set_xlim(1, sem-1)\n",
    "ax.set_ylim(4.8,10)\n",
    "dim = np.arange(1, sem)\n",
    "ax.plot(dim, pointer_buffer, linestyle='-', marker=\"o\")\n",
    "\n",
    "print(\"Dear\",name, \"here is the final analysis\" )\n",
    "print(\"SEM 1\",\"Initial\")\n",
    "\n",
    "#COMPARISON\n",
    "pivot=1\n",
    "piv=0\n",
    "for comp in range(len(pointer_buffer)):\n",
    "    if(pivot<semesters):\n",
    "        sem_ind=pointer_buffer.index(pointer_buffer[pivot])\n",
    "        if(pointer_buffer[pivot]>pointer_buffer[piv]):\n",
    "            dif=pointer_buffer[pivot]-pointer_buffer[piv]\n",
    "            print(\"SEM\",sem_ind+1, \"Improvement of \",round(dif,2),\"compared to SEM\",sem_ind)\n",
    "        elif(pointer_buffer[pivot]==pointer_buffer[piv]):\n",
    "            print(\"SEM\",sem_ind+1,\"No difference\",\"compared to SEM\",sem_ind)\n",
    "        else:\n",
    "            diff=pointer_buffer[piv]-pointer_buffer[pivot]\n",
    "            print(\"SEM\",sem_ind+1, \"Poor. Detoriated by \",round(diff,2),\"compared to SEM\",sem_ind )\n",
    "    pivot=pivot+1\n",
    "    piv=piv+1"
   ]
  },
  {
   "cell_type": "code",
   "execution_count": null,
   "metadata": {},
   "outputs": [],
   "source": [
    "#DESIRED POINTER BASED ON REMSINING SEMESTERS"
   ]
  },
  {
   "cell_type": "code",
   "execution_count": 17,
   "metadata": {},
   "outputs": [
    {
     "name": "stdout",
     "output_type": "stream",
     "text": [
      "Dear Glen Your Course has been completed. Your final pointer is:  7.29\n"
     ]
    }
   ],
   "source": [
    "total_sems=8\n",
    "total_pointer_sum=80\n",
    "total_pointer=10\n",
    "\n",
    "remaining_sems=total_sems-semesters\n",
    "\n",
    "if(remaining_sems==0):\n",
    "    print(\"Dear\",name,\"Your Course has been completed. Your final pointer is: \",round(avg,2))\n",
    "    exit\n",
    "\n",
    "else:    \n",
    "    print(\"Dear\",name)\n",
    "    desired_pointer=float(input(\"Enter your desired pointer: \"))\n",
    "\n",
    "    desired_score=desired_pointer*total_sems\n",
    "\n",
    "    to_score=desired_score-sum(pointer_buffer)\n",
    "\n",
    "    actual_score=to_score/remaining_sems\n",
    "\n",
    "    max_pointer_sum=remaining_sems*total_pointer\n",
    "    max_pointer=(sum(pointer_buffer)+max_pointer_sum)/total_sems\n",
    "\n",
    "\n",
    "    if(actual_score>10):\n",
    "        print(\"Not Possible\")\n",
    "        print(\"Maximum you can score is: \",round(max_pointer,2))\n",
    "\n",
    "    else:\n",
    "        print(\"Score Minimum\",round(actual_score,2),\"in each of the remaining semesters. Good Luck\")"
   ]
  },
  {
   "cell_type": "code",
   "execution_count": 30,
   "metadata": {},
   "outputs": [
    {
     "name": "stdout",
     "output_type": "stream",
     "text": [
      "Your GPA is:  3\n"
     ]
    }
   ],
   "source": [
    "def convertGPA(avg):\n",
    "    if(avg>=4.0 and avg<=4.4):\n",
    "        gpa=1\n",
    "    if(avg>=4.5 and avg<=4.9):\n",
    "        gpa=1.3    \n",
    "    if(avg>=5.0 and avg<=5.4):\n",
    "        gpa=1.7\n",
    "    if(avg>=5.5 and avg<=5.9):\n",
    "        gpa=2\n",
    "    if(avg>=6.0 and avg<=6.4):\n",
    "        gpa=2.3\n",
    "    if(avg>=6.5 and avg<=6.9):\n",
    "        gpa=2.7\n",
    "    if(avg>=7 and avg<=7.4):\n",
    "        gpa=3\n",
    "    if(avg>=7.5 and avg<=7.9):\n",
    "        gpa=3.3\n",
    "    if(avg>=8 and avg<=8.4):\n",
    "        gpa=3.7\n",
    "    if(avg>=8.5):\n",
    "        gpa=4    \n",
    "        \n",
    "    return gpa\n",
    "\n",
    "gpa=convertGPA(avg)\n",
    "print(\"Your GPA is: \",gpa)"
   ]
  },
  {
   "cell_type": "code",
   "execution_count": 21,
   "metadata": {},
   "outputs": [],
   "source": [
    "country=pd.read_csv('Country.csv')\n",
    "courses_USA=pd.read_csv('CoursesUSA.csv')"
   ]
  },
  {
   "cell_type": "code",
   "execution_count": 20,
   "metadata": {},
   "outputs": [
    {
     "name": "stdout",
     "output_type": "stream",
     "text": [
      "Dear, Glen Do you wish to pursue your masters degree?\n",
      "\n",
      "\n",
      "Enter Yes or No: Yes\n",
      "\n",
      "\n",
      "Select Country\n",
      "   Sr. No.    Country\n",
      "0        1      India\n",
      "1        2        USA\n",
      "2        3     Canada\n",
      "3        4         UK\n",
      "4        5  Australia\n",
      "5        6     Europe\n"
     ]
    }
   ],
   "source": [
    "print(\"Dear,\",name,\"Do you wish to pursue your masters degree?\")\n",
    "print(\"\\n\")\n",
    "ques_masters=str(input(\"Enter Yes or No: \"))\n",
    "print(\"\\n\")\n",
    "\n",
    "if(ques_masters==\"Yes\"):\n",
    "    print(\"Select Country\")\n",
    "    print(country)"
   ]
  },
  {
   "cell_type": "code",
   "execution_count": 29,
   "metadata": {},
   "outputs": [],
   "source": [
    "def USA():\n",
    "    print(\"Popular Courses in USA, Select your choice\")\n",
    "    print(courses_USA)\n",
    "    print(\"Select your choice(Course 0=1, and so on): \") \n",
    "    course_choice=int(input())\n",
    "    \n",
    "    if(course_choice==1):\n",
    "        \n",
    "        "
   ]
  },
  {
   "cell_type": "code",
   "execution_count": null,
   "metadata": {},
   "outputs": [],
   "source": [
    "def EntranceUSA(gpa):\n",
    "    application_buffer=[]\n",
    "    \n",
    "    application_buffer.append(gpa)\n",
    "    GRE=int(input(\"Enter your GRE Score: \"))\n",
    "    application_buffer.append(GRE)\n",
    "    TOEFL=int(input(\"Enter your TOEFL Score: \"))\n",
    "    application_buffer.append(TOEFL)\n",
    "    SOP_GRADE=str(input(\"Enter your SOP grade: \"))\n",
    "    if(SOP_GRADE==\"A\"):\n",
    "        application_buffer.append(4)\n",
    "    elif(SOP_GRADE==\"B\"):\n",
    "        application_buffer.append(3)\n",
    "    elif(SOP_GRADE==\"C\"):\n",
    "        application_buffer.append(2)\n",
    "    elif(SOP_GRADE==\"D\"):\n",
    "        application_buffer.append(1)\n",
    "    elif(SOP_GRADE==\"E\"):\n",
    "        application_buffer.append(0)    \n",
    "\n",
    "    LOR_Points=int(input(\"Enter your LOR Points: \"))\n",
    "    application_buffer.append(LOR_points)\n",
    "    \n",
    "    #Optional\n",
    "    we_ques=str(input(\"Do you have Work Experience? \"))\n",
    "    if(we_ques==\"Yes\"):\n",
    "        work_exp=int(input(\"Number of Years: \"))\n",
    "    else:\n",
    "        work_exp=0\n",
    "        break\n",
    "    \n",
    "    techp_ques=str(input(\"Have you published technical papers? \"))\n",
    "    if(techp_ques==\"Yes\"):\n",
    "        tech_ppr=int(input(\"Number of Papers: \"))\n",
    "    else:\n",
    "        tech_ppr=0\n",
    "        break\n",
    "\n",
    "\n",
    "    points=sum(application_buffer)/len(application_buffer)\n",
    "    if(points<=8):\n",
    "        points=points+(0.5*work_exp + 0.5*tech_ppr)\n",
    "    \n",
    "    return points"
   ]
  },
  {
   "cell_type": "code",
   "execution_count": null,
   "metadata": {},
   "outputs": [],
   "source": []
  }
 ],
 "metadata": {
  "kernelspec": {
   "display_name": "Python 3",
   "language": "python",
   "name": "python3"
  },
  "language_info": {
   "codemirror_mode": {
    "name": "ipython",
    "version": 3
   },
   "file_extension": ".py",
   "mimetype": "text/x-python",
   "name": "python",
   "nbconvert_exporter": "python",
   "pygments_lexer": "ipython3",
   "version": "3.7.1"
  }
 },
 "nbformat": 4,
 "nbformat_minor": 2
}
